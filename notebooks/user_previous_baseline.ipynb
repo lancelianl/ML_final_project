{
 "cells": [
  {
   "cell_type": "code",
   "execution_count": null,
   "metadata": {},
   "outputs": [],
   "source": [
    "import pandas as pd\n",
    "import numpy as np\n",
    "from sklearn.model_selection import train_test_split\n",
    "\n",
    "interaction_matrix = pd.read_csv(\"src/models/interaction_matrix.csv\", index_col=0)\n",
    "\n",
    "ratings_data = interaction_matrix.stack().reset_index()\n",
    "ratings_data.columns = [\"user_id\", \"anime_id\", \"rating\"]\n",
    "\n",
    "ratings_data = ratings_data[ratings_data[\"rating\"] > 0]\n",
    "\n",
    "train_data, test_data = train_test_split(ratings_data, test_size=0.2, random_state=42)\n",
    "\n",
    "train_data.to_csv(\"src/dataset/train_data.csv\", index=False)\n",
    "test_data.to_csv(\"src/dataset/test_data.csv\", index=False)\n",
    "\n",
    "print(\"Training and test data generated successfully!\")\n",
    "print(f\"Training data shape: {train_data.shape}\")\n",
    "print(f\"Test data shape: {test_data.shape}\")\n"
   ]
  },
  {
   "cell_type": "code",
   "execution_count": null,
   "metadata": {},
   "outputs": [],
   "source": [
    "import pandas as pd\n",
    "import numpy as np\n",
    "import torch\n",
    "import torch.nn as nn\n",
    "from sklearn.model_selection import train_test_split\n",
    "from sklearn.metrics import mean_squared_error\n",
    "from models.base_recommender import BaseRecommender\n",
    "\n",
    "class BaselineModel(BaseRecommender):\n",
    "    def __init__(self, anime_data):\n",
    "        \"\"\"\n",
    "        Predicts ratings based on user averages and computes MSE.\n",
    "        \"\"\"\n",
    "        super().__init__()\n",
    "        self.anime_data = anime_data\n",
    "        self.user_mean_ratings = None\n",
    "        self.global_mean_rating = None\n",
    "\n",
    "    def fit(self, train_df):\n",
    "        \"\"\"\n",
    "        Train the baseline model by computing:\n",
    "        - Mean rating for each user (user-level average)\n",
    "        - Global mean rating as a fallback\n",
    "        \"\"\"\n",
    "        self.user_mean_ratings = train_df.groupby('user_id')['rating'].mean().to_dict()\n",
    "        self.global_mean_rating = train_df['rating'].mean()\n",
    "        print(f\"Global Mean Rating: {self.global_mean_rating:.4f}\")\n",
    "\n",
    "    def forward(self, user_ids, item_ids):\n",
    "        \"\"\"\n",
    "        Predict ratings for user-item pairs based on user mean ratings or global mean.\n",
    "        \"\"\"\n",
    "        predictions = []\n",
    "        for user_id in user_ids:\n",
    "            pred = self.user_mean_ratings.get(user_id, self.global_mean_rating)\n",
    "            predictions.append(pred)\n",
    "        return torch.tensor(predictions, dtype=torch.float32)\n",
    "\n",
    "    def evaluate_mse(self, test_df):\n",
    "        \"\"\"\n",
    "        Evaluate the model by predicting ratings and computing the MSE.\n",
    "        \"\"\"\n",
    "        user_ids = test_df['user_id'].tolist()\n",
    "        predictions = self.forward(user_ids, test_df['anime_id'].tolist())\n",
    "        actual_ratings = torch.tensor(test_df['rating'].tolist(), dtype=torch.float32)\n",
    "        mse = nn.MSELoss()(predictions, actual_ratings).item()\n",
    "        return mse\n",
    "\n",
    "\n"
   ]
  },
  {
   "cell_type": "code",
   "execution_count": null,
   "metadata": {},
   "outputs": [],
   "source": [
    "anime_data = pd.read_csv(\"src/dataset/anime.csv\")\n",
    "train_data_full = pd.read_csv(\"src/dataset/train_data.csv\")\n",
    "test_data = pd.read_csv(\"src/dataset/test_data.csv\")\n",
    "\n",
    "train_data, val_data = train_test_split(train_data_full, test_size=0.2, random_state=42)"
   ]
  },
  {
   "cell_type": "code",
   "execution_count": null,
   "metadata": {},
   "outputs": [],
   "source": [
    "model = BaselineModel(anime_data)\n",
    "model.fit(train_data)\n",
    "\n",
    "val_mse = model.evaluate(val_data)\n",
    "test_mse = model.evaluate(test_data)\n",
    "print(f\"Validation MSE: {val_mse:.4f}\")\n",
    "print(f\"Test MSE: {test_mse:.4f}\")\n"
   ]
  }
 ],
 "metadata": {
  "kernelspec": {
   "display_name": "Peter",
   "language": "python",
   "name": "python3"
  },
  "language_info": {
   "codemirror_mode": {
    "name": "ipython",
    "version": 3
   },
   "file_extension": ".py",
   "mimetype": "text/x-python",
   "name": "python",
   "nbconvert_exporter": "python",
   "pygments_lexer": "ipython3",
   "version": "3.11.5"
  }
 },
 "nbformat": 4,
 "nbformat_minor": 2
}
