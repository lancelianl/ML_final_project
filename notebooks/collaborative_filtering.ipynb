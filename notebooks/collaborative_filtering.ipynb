{
 "cells": [
  {
   "cell_type": "code",
   "execution_count": 1,
   "metadata": {},
   "outputs": [],
   "source": [
    "# Executing this cell does some magic\n",
    "%load_ext autoreload\n",
    "%autoreload 2"
   ]
  },
  {
   "cell_type": "code",
   "execution_count": 2,
   "metadata": {},
   "outputs": [],
   "source": [
    "import sys\n",
    "# Add the `src` folder to the system path\n",
    "src_path = '../src'  # Replace with the actual path to the `src` folder\n",
    "sys.path.append(src_path)"
   ]
  },
  {
   "cell_type": "code",
   "execution_count": 3,
   "metadata": {},
   "outputs": [],
   "source": [
    "# Required imports\n",
    "import pandas as pd\n",
    "import torch\n",
    "from torch.utils.data import DataLoader\n",
    "import os\n",
    "import numpy as np\n",
    "\n",
    "# Assuming these scripts are in src/ or current directory\n",
    "from dataset.rating_dataset import preprocess_data, RatingDataset  # Adjust path as needed\n",
    "from dataset.anime_data import AnimeData  # Adjust path as needed\n",
    "from eval.evaluate import evaluate_mse   # Adjust path as needed\n",
    "from models.genre_baseline import GenreBaselineModel  # Adjust path as needed\n"
   ]
  },
  {
   "cell_type": "markdown",
   "metadata": {},
   "source": [
    "## Step 1: Preprocess Data\n",
    "\n",
    "We'll get `train_dataset`, `val_dataset`, and `test_dataset` using our `preprocess_data` function.\n"
   ]
  },
  {
   "cell_type": "code",
   "execution_count": 4,
   "metadata": {},
   "outputs": [
    {
     "name": "stdout",
     "output_type": "stream",
     "text": [
      "Training samples: 2600126, Validation samples: 325016, Test samples: 325016\n"
     ]
    }
   ],
   "source": [
    "train_dataset, val_dataset, test_dataset = preprocess_data(\n",
    "    filepath='../data/raw/animelist.csv',\n",
    "    user_range=10000,  # For example, limit to first 10k users\n",
    "    include_watching_status=False,\n",
    "    include_watched_episodes=False,\n",
    "    zero_strategy='average',\n",
    "    random_state=42,\n",
    "    save_interaction_matrix=True\n",
    ")\n",
    "\n",
    "len_train = len(train_dataset)\n",
    "len_val = len(val_dataset)\n",
    "len_test = len(test_dataset)\n",
    "\n",
    "print(f\"Training samples: {len_train}, Validation samples: {len_val}, Test samples: {len_test}\")\n"
   ]
  },
  {
   "cell_type": "code",
   "execution_count": 5,
   "metadata": {},
   "outputs": [],
   "source": [
    "train_loader = DataLoader(train_dataset, batch_size=64, shuffle=True)\n",
    "val_loader = DataLoader(val_dataset, batch_size=64, shuffle=False)\n",
    "test_loader = DataLoader(test_dataset, batch_size=64, shuffle=False)\n"
   ]
  },
  {
   "cell_type": "markdown",
   "metadata": {},
   "source": [
    "## Step 2: Initialize AnimeData\n",
    "\n",
    "We'll load the anime metadata, which will allow us to query genres and compute global genre means.\n"
   ]
  },
  {
   "cell_type": "code",
   "execution_count": 6,
   "metadata": {},
   "outputs": [
    {
     "name": "stdout",
     "output_type": "stream",
     "text": [
      "Anime DataFrame shape: (17562, 37)\n",
      "Columns: ['MAL_ID', 'Name', 'Score', 'Genres', 'English name', 'Japanese name', 'Type', 'Episodes', 'Aired', 'Premiered', 'Producers', 'Licensors', 'Studios', 'Source', 'Duration', 'Rating', 'Ranked', 'Popularity', 'Members', 'Favorites', 'Watching', 'Completed', 'On-Hold', 'Dropped', 'Plan to Watch', 'Score-10', 'Score-9', 'Score-8', 'Score-7', 'Score-6', 'Score-5', 'Score-4', 'Score-3', 'Score-2', 'Score-1', 'StartDate', 'EndDate']\n"
     ]
    }
   ],
   "source": [
    "anime_data = AnimeData(filepath='../data/raw/anime.csv')\n",
    "print(\"Anime DataFrame shape:\", anime_data.df.shape)\n",
    "print(\"Columns:\", anime_data.list_columns())\n"
   ]
  },
  {
   "cell_type": "markdown",
   "metadata": {},
   "source": [
    "## Step 3: Initialize and Fit Collaborative Filtering Model\n",
    "\n",
    "We'll create an instance of `MatrixFactorizationModel` and then fit it on the training data. The `fit` method expects a DataFrame with `user_id, anime_id, rating`. We can get that from `train_dataset`.\n"
   ]
  },
  {
   "cell_type": "code",
   "execution_count": 7,
   "metadata": {},
   "outputs": [
    {
     "name": "stdout",
     "output_type": "stream",
     "text": [
      "Max user_id: 9978, Max anime_id: 15925\n",
      "Min user_id: 0, Min anime_id: 0\n",
      "Training with embedding_dim=4\n",
      "Epoch 1/8, Training Loss: 12.6612\n",
      "Epoch 1/8, Validation Loss: 1.6702\n",
      "Epoch 2/8, Training Loss: 1.4095\n",
      "Epoch 2/8, Validation Loss: 1.2882\n",
      "Epoch 3/8, Training Loss: 1.2323\n",
      "Epoch 3/8, Validation Loss: 1.1979\n",
      "Epoch 4/8, Training Loss: 1.1539\n",
      "Epoch 4/8, Validation Loss: 1.1349\n",
      "Epoch 5/8, Training Loss: 1.1041\n",
      "Epoch 5/8, Validation Loss: 1.1022\n",
      "Epoch 6/8, Training Loss: 1.0738\n",
      "Epoch 6/8, Validation Loss: 1.0825\n",
      "Epoch 7/8, Training Loss: 1.0508\n",
      "Epoch 7/8, Validation Loss: 1.0689\n",
      "Epoch 8/8, Training Loss: 1.0340\n",
      "Epoch 8/8, Validation Loss: 1.0606\n",
      "Validation Loss for embedding_dim=4: 1.0606\n",
      "Training with embedding_dim=8\n",
      "Epoch 1/8, Training Loss: 11.4356\n",
      "Epoch 1/8, Validation Loss: 1.5165\n",
      "Epoch 2/8, Training Loss: 1.3278\n",
      "Epoch 2/8, Validation Loss: 1.2232\n",
      "Epoch 3/8, Training Loss: 1.1597\n",
      "Epoch 3/8, Validation Loss: 1.1362\n",
      "Epoch 4/8, Training Loss: 1.0928\n",
      "Epoch 4/8, Validation Loss: 1.0971\n",
      "Epoch 5/8, Training Loss: 1.0543\n",
      "Epoch 5/8, Validation Loss: 1.0783\n",
      "Epoch 6/8, Training Loss: 1.0295\n",
      "Epoch 6/8, Validation Loss: 1.0675\n",
      "Epoch 7/8, Training Loss: 1.0111\n",
      "Epoch 7/8, Validation Loss: 1.0605\n",
      "Epoch 8/8, Training Loss: 0.9976\n",
      "Epoch 8/8, Validation Loss: 1.0569\n",
      "Validation Loss for embedding_dim=8: 1.0569\n",
      "Training with embedding_dim=16\n",
      "Epoch 1/8, Training Loss: 10.4203\n",
      "Epoch 1/8, Validation Loss: 1.4101\n",
      "Epoch 2/8, Training Loss: 1.2454\n",
      "Epoch 2/8, Validation Loss: 1.1659\n",
      "Epoch 3/8, Training Loss: 1.1046\n",
      "Epoch 3/8, Validation Loss: 1.1078\n",
      "Epoch 4/8, Training Loss: 1.0461\n",
      "Epoch 4/8, Validation Loss: 1.0844\n",
      "Epoch 5/8, Training Loss: 1.0062\n",
      "Epoch 5/8, Validation Loss: 1.0717\n",
      "Epoch 6/8, Training Loss: 0.9759\n",
      "Epoch 6/8, Validation Loss: 1.0699\n",
      "Epoch 7/8, Training Loss: 0.9531\n",
      "Epoch 7/8, Validation Loss: 1.0651\n",
      "Epoch 8/8, Training Loss: 0.9357\n",
      "Epoch 8/8, Validation Loss: 1.0672\n",
      "Validation Loss for embedding_dim=16: 1.0672\n",
      "Training with embedding_dim=32\n",
      "Epoch 1/8, Training Loss: 9.1929\n",
      "Epoch 1/8, Validation Loss: 1.3032\n",
      "Epoch 2/8, Training Loss: 1.1809\n",
      "Epoch 2/8, Validation Loss: 1.1557\n",
      "Epoch 3/8, Training Loss: 1.0642\n",
      "Epoch 3/8, Validation Loss: 1.1090\n",
      "Epoch 4/8, Training Loss: 0.9905\n",
      "Epoch 4/8, Validation Loss: 1.0965\n",
      "Epoch 5/8, Training Loss: 0.9355\n",
      "Epoch 5/8, Validation Loss: 1.0975\n",
      "Epoch 6/8, Training Loss: 0.8957\n",
      "Epoch 6/8, Validation Loss: 1.1026\n",
      "Epoch 7/8, Training Loss: 0.8672\n",
      "Epoch 7/8, Validation Loss: 1.1088\n",
      "Epoch 8/8, Training Loss: 0.8455\n",
      "Epoch 8/8, Validation Loss: 1.1157\n",
      "Validation Loss for embedding_dim=32: 1.1157\n",
      "Best embedding_dim: 8, with Validation Loss: 1.0569\n"
     ]
    }
   ],
   "source": [
    "from models.matrix_factorization import MatrixFactorizationModel\n",
    "import torch.nn as nn\n",
    "import matplotlib.pyplot as plt\n",
    "\n",
    "# Ensure proper remapping of IDs\n",
    "user_mapping = {uid: idx for idx, uid in enumerate(train_dataset.data['user_id'].unique())}\n",
    "anime_mapping = {aid: idx for idx, aid in enumerate(train_dataset.data['anime_id'].unique())}\n",
    "\n",
    "# Apply remapping and handle unmapped IDs\n",
    "for dataset in [train_dataset, val_dataset, test_dataset]:\n",
    "    dataset.data['user_id'] = dataset.data['user_id'].map(user_mapping).fillna(0).astype(int)\n",
    "    dataset.data['anime_id'] = dataset.data['anime_id'].map(anime_mapping).fillna(0).astype(int)\n",
    "\n",
    "# Verify ranges\n",
    "print(f\"Max user_id: {train_dataset.data['user_id'].max()}, Max anime_id: {train_dataset.data['anime_id'].max()}\")\n",
    "print(f\"Min user_id: {train_dataset.data['user_id'].min()}, Min anime_id: {train_dataset.data['anime_id'].min()}\")\n",
    "\n",
    "# Ensure number of users and items match remapped IDs\n",
    "num_users = len(user_mapping)\n",
    "num_items = len(anime_mapping)\n",
    "\n",
    "embedding_dims = [4, 8, 16, 32]  # Different embedding dimensions to try\n",
    "all_losses = {}  # Store losses for visualization\n",
    "\n",
    "best_embedding_dim = None\n",
    "best_val_loss = float('inf')\n",
    "\n",
    "for dim in embedding_dims:\n",
    "    print(f\"Training with embedding_dim={dim}\")\n",
    "    model = MatrixFactorizationModel(num_users=num_users, num_items=num_items, embedding_dim=dim)\n",
    "    train_loss_history, val_loss_history = model.fit(\n",
    "        train_loader, val_loader=val_loader, num_epochs=8, lr=0.001, device='cpu'\n",
    "    )\n",
    "    final_val_loss = model.evaluate(val_loader, nn.MSELoss(), device='cpu')\n",
    "    \n",
    "    print(f\"Validation Loss for embedding_dim={dim}: {final_val_loss:.4f}\")\n",
    "\n",
    "    all_losses[dim] = {\n",
    "        'train_loss_history': train_loss_history,\n",
    "        'val_loss_history': val_loss_history\n",
    "    }\n",
    "\n",
    "    if final_val_loss < best_val_loss:\n",
    "        best_model = model\n",
    "        best_val_loss = final_val_loss\n",
    "        best_embedding_dim = dim\n",
    "\n",
    "print(f\"Best embedding_dim: {best_embedding_dim}, with Validation Loss: {best_val_loss:.4f}\")\n"
   ]
  },
  {
   "cell_type": "code",
   "execution_count": 10,
   "metadata": {},
   "outputs": [
    {
     "data": {
      "image/png": "[encoded data removed]",
      "text/plain": [
       "<Figure size 1000x600 with 1 Axes>"
      ]
     },
     "metadata": {},
     "output_type": "display_data"
    }
   ],
   "source": [
    "# Visualization block\n",
    "plt.figure(figsize=(12, 8))\n",
    "\n",
    "for dim, losses in all_losses.items():\n",
    "    plt.plot(losses['train_loss_history'], label=f'Train Loss (dim={dim})', marker='o')\n",
    "    plt.plot(losses['val_loss_history'], label=f'Validation Loss (dim={dim})', marker='o')\n",
    "\n",
    "plt.xlabel('Epoch')\n",
    "plt.ylabel('Loss')\n",
    "plt.title('Training and Validation Loss History for Different Embedding Dimensions')\n",
    "plt.legend()\n",
    "plt.grid()\n",
    "plt.show()"
   ]
  },
  {
   "cell_type": "markdown",
   "metadata": {},
   "source": [
    "## Step 4: Test Predictions\n",
    "\n",
    "Let's pick a few random user-item pairs from the validation set and see what the model predicts.\n"
   ]
  },
  {
   "cell_type": "code",
   "execution_count": 11,
   "metadata": {},
   "outputs": [
    {
     "name": "stdout",
     "output_type": "stream",
     "text": [
      "User 4280, Item 606 | Actual: 7.0, Predicted: 7.42995023727417\n",
      "User 368, Item 1805 | Actual: 6.0, Predicted: 6.910248279571533\n",
      "User 1261, Item 462 | Actual: 7.3391442155309035, Predicted: 8.167037963867188\n",
      "User 2116, Item 1485 | Actual: 9.0, Predicted: 9.462530136108398\n",
      "User 1513, Item 4003 | Actual: 5.0, Predicted: 6.639827728271484\n"
     ]
    }
   ],
   "source": [
    "val_df = val_dataset.data\n",
    "sample = val_df.sample(5, random_state=42)\n",
    "\n",
    "user_ids = torch.tensor(sample['user_id'].values, dtype=torch.long)\n",
    "item_ids = torch.tensor(sample['anime_id'].values, dtype=torch.long)\n",
    "actual_ratings = sample['rating'].values\n",
    "\n",
    "predictions = best_model(user_ids, item_ids)\n",
    "\n",
    "for u, i, actual, pred in zip(user_ids, item_ids, actual_ratings, predictions):\n",
    "    print(f\"User {u.item()}, Item {i.item()} | Actual: {actual}, Predicted: {pred.item()}\")\n"
   ]
  },
  {
   "cell_type": "markdown",
   "metadata": {},
   "source": [
    "We see how the collaborative filtering model predicts ratings.\n",
    "\n",
    "## Step 5: Evaluate Model\n",
    "\n",
    "Now we use the `evaluate_mse` function to compute MSE on the validation and test sets.\n"
   ]
  },
  {
   "cell_type": "code",
   "execution_count": 13,
   "metadata": {},
   "outputs": [
    {
     "name": "stdout",
     "output_type": "stream",
     "text": [
      "Validation MSE: 1.0569001613901634\n",
      "Test MSE: 1.058590491660678\n"
     ]
    }
   ],
   "source": [
    "val_mse = evaluate_mse(best_model, val_loader, device='cpu')\n",
    "test_mse = evaluate_mse(best_model, test_loader, device='cpu')\n",
    "\n",
    "print(\"Validation MSE:\", val_mse)\n",
    "print(\"Test MSE:\", test_mse)\n"
   ]
  }
 ],
 "metadata": {
  "kernelspec": {
   "display_name": "nlp-class",
   "language": "python",
   "name": "python3"
  },
  "language_info": {
   "codemirror_mode": {
    "name": "ipython",
    "version": 3
   },
   "file_extension": ".py",
   "mimetype": "text/x-python",
   "name": "python",
   "nbconvert_exporter": "python",
   "pygments_lexer": "ipython3",
   "version": "3.11.0"
  }
 },
 "nbformat": 4,
 "nbformat_minor": 2
}
