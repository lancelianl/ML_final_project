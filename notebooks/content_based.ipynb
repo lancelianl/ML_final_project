{
 "cells": [
  {
   "cell_type": "code",
   "execution_count": 1,
   "metadata": {},
   "outputs": [],
   "source": [
    "# Executing this cell does some magic\n",
    "%load_ext autoreload\n",
    "%autoreload 2"
   ]
  },
  {
   "cell_type": "code",
   "execution_count": 2,
   "metadata": {},
   "outputs": [],
   "source": [
    "import sys\n",
    "# Add the `src` folder to the system path\n",
    "src_path = '../src' # Replace with the actual path to the `src` folder\n",
    "sys.path.append(src_path)"
   ]
  },
  {
   "cell_type": "code",
   "execution_count": 3,
   "metadata": {},
   "outputs": [],
   "source": [
    "# Required imports\n",
    "import pandas as pd\n",
    "import torch\n",
    "from torch.utils.data import DataLoader\n",
    "import os\n",
    "import numpy as np\n",
    "\n",
    "# Costum imports\n",
    "from dataset.rating_dataset import preprocess_data, RatingDataset\n",
    "from dataset.anime_data import AnimeData\n",
    "from eval.evaluate import evaluate_mse\n",
    "\n",
    "from models.genre_baseline import GenreBaselineModel\n",
    "from models.content_based_recommender import ContentBasedRecommender"
   ]
  },
  {
   "cell_type": "markdown",
   "metadata": {},
   "source": [
    "## Step 1: Preprocess Data\n",
    "\n",
    "We'll get `train_dataset`, `val_dataset`, and `test_dataset` using our `preprocess_data` function.\n"
   ]
  },
  {
   "cell_type": "code",
   "execution_count": 4,
   "metadata": {},
   "outputs": [
    {
     "name": "stdout",
     "output_type": "stream",
     "text": [
      "Training samples: 2600126, Validation samples: 325016, Test samples: 325016\n"
     ]
    }
   ],
   "source": [
    "train_dataset, val_dataset, test_dataset = preprocess_data(\n",
    "    filepath='../data/raw/animelist.csv',\n",
    "    user_range=10000,  # For example, limit to first 10k users\n",
    "    include_watching_status=False,\n",
    "    include_watched_episodes=False,\n",
    "    zero_strategy='average',\n",
    "    random_state=42,\n",
    "    save_interaction_matrix=True\n",
    ")\n",
    "\n",
    "len_train = len(train_dataset)\n",
    "len_val = len(val_dataset)\n",
    "len_test = len(test_dataset)\n",
    "\n",
    "print(f\"Training samples: {len_train}, Validation samples: {len_val}, Test samples: {len_test}\")"
   ]
  },
  {
   "cell_type": "code",
   "execution_count": 5,
   "metadata": {},
   "outputs": [],
   "source": [
    "train_loader = DataLoader(train_dataset, batch_size=64, shuffle=True)\n",
    "val_loader = DataLoader(val_dataset, batch_size=64, shuffle=False)\n",
    "test_loader = DataLoader(test_dataset, batch_size=64, shuffle=False)"
   ]
  },
  {
   "cell_type": "markdown",
   "metadata": {},
   "source": [
    "## Step 2: Train the Model\n"
   ]
  },
  {
   "cell_type": "code",
   "execution_count": 17,
   "metadata": {},
   "outputs": [
    {
     "name": "stderr",
     "output_type": "stream",
     "text": [
      "/Users/kevinhuang/Desktop/Fall_2024/ML/ML_final_project/notebooks/../src/models/content_based_recommender.py:64: FutureWarning: A value is trying to be set on a copy of a DataFrame or Series through chained assignment using an inplace method.\n",
      "The behavior will change in pandas 3.0. This inplace method will never work because the intermediate object on which we are setting values always behaves as a copy.\n",
      "\n",
      "For example, when doing 'df[col].method(value, inplace=True)', try using 'df.method({col: value}, inplace=True)' or df[col] = df[col].method(value) instead, to perform the operation inplace on the original object.\n",
      "\n",
      "\n",
      "  df['Season'].fillna(df['Season'].mode()[0], inplace=True)\n",
      "/Users/kevinhuang/Desktop/Fall_2024/ML/ML_final_project/notebooks/../src/models/content_based_recommender.py:65: FutureWarning: A value is trying to be set on a copy of a DataFrame or Series through chained assignment using an inplace method.\n",
      "The behavior will change in pandas 3.0. This inplace method will never work because the intermediate object on which we are setting values always behaves as a copy.\n",
      "\n",
      "For example, when doing 'df[col].method(value, inplace=True)', try using 'df.method({col: value}, inplace=True)' or df[col] = df[col].method(value) instead, to perform the operation inplace on the original object.\n",
      "\n",
      "\n",
      "  df['Year'].fillna(df['Year'].median(), inplace=True)\n",
      "/Users/kevinhuang/Desktop/Fall_2024/ML/ML_final_project/notebooks/../src/models/content_based_recommender.py:74: FutureWarning: A value is trying to be set on a copy of a DataFrame or Series through chained assignment using an inplace method.\n",
      "The behavior will change in pandas 3.0. This inplace method will never work because the intermediate object on which we are setting values always behaves as a copy.\n",
      "\n",
      "For example, when doing 'df[col].method(value, inplace=True)', try using 'df.method({col: value}, inplace=True)' or df[col] = df[col].method(value) instead, to perform the operation inplace on the original object.\n",
      "\n",
      "\n",
      "  df[col].fillna(df[col].median(), inplace=True)\n",
      "/Users/kevinhuang/Desktop/Fall_2024/ML/ML_final_project/notebooks/../src/models/content_based_recommender.py:74: FutureWarning: A value is trying to be set on a copy of a DataFrame or Series through chained assignment using an inplace method.\n",
      "The behavior will change in pandas 3.0. This inplace method will never work because the intermediate object on which we are setting values always behaves as a copy.\n",
      "\n",
      "For example, when doing 'df[col].method(value, inplace=True)', try using 'df.method({col: value}, inplace=True)' or df[col] = df[col].method(value) instead, to perform the operation inplace on the original object.\n",
      "\n",
      "\n",
      "  df[col].fillna(df[col].median(), inplace=True)\n",
      "/Users/kevinhuang/Desktop/Fall_2024/ML/ML_final_project/notebooks/../src/models/content_based_recommender.py:74: FutureWarning: A value is trying to be set on a copy of a DataFrame or Series through chained assignment using an inplace method.\n",
      "The behavior will change in pandas 3.0. This inplace method will never work because the intermediate object on which we are setting values always behaves as a copy.\n",
      "\n",
      "For example, when doing 'df[col].method(value, inplace=True)', try using 'df.method({col: value}, inplace=True)' or df[col] = df[col].method(value) instead, to perform the operation inplace on the original object.\n",
      "\n",
      "\n",
      "  df[col].fillna(df[col].median(), inplace=True)\n",
      "/Users/kevinhuang/Desktop/Fall_2024/ML/ML_final_project/notebooks/../src/models/content_based_recommender.py:74: FutureWarning: A value is trying to be set on a copy of a DataFrame or Series through chained assignment using an inplace method.\n",
      "The behavior will change in pandas 3.0. This inplace method will never work because the intermediate object on which we are setting values always behaves as a copy.\n",
      "\n",
      "For example, when doing 'df[col].method(value, inplace=True)', try using 'df.method({col: value}, inplace=True)' or df[col] = df[col].method(value) instead, to perform the operation inplace on the original object.\n",
      "\n",
      "\n",
      "  df[col].fillna(df[col].median(), inplace=True)\n",
      "/Users/kevinhuang/Desktop/Fall_2024/ML/ML_final_project/notebooks/../src/models/content_based_recommender.py:74: FutureWarning: A value is trying to be set on a copy of a DataFrame or Series through chained assignment using an inplace method.\n",
      "The behavior will change in pandas 3.0. This inplace method will never work because the intermediate object on which we are setting values always behaves as a copy.\n",
      "\n",
      "For example, when doing 'df[col].method(value, inplace=True)', try using 'df.method({col: value}, inplace=True)' or df[col] = df[col].method(value) instead, to perform the operation inplace on the original object.\n",
      "\n",
      "\n",
      "  df[col].fillna(df[col].median(), inplace=True)\n",
      "/Users/kevinhuang/Desktop/Fall_2024/ML/ML_final_project/notebooks/../src/models/content_based_recommender.py:74: FutureWarning: A value is trying to be set on a copy of a DataFrame or Series through chained assignment using an inplace method.\n",
      "The behavior will change in pandas 3.0. This inplace method will never work because the intermediate object on which we are setting values always behaves as a copy.\n",
      "\n",
      "For example, when doing 'df[col].method(value, inplace=True)', try using 'df.method({col: value}, inplace=True)' or df[col] = df[col].method(value) instead, to perform the operation inplace on the original object.\n",
      "\n",
      "\n",
      "  df[col].fillna(df[col].median(), inplace=True)\n",
      "/Users/kevinhuang/Desktop/Fall_2024/ML/ML_final_project/notebooks/../src/models/content_based_recommender.py:74: FutureWarning: A value is trying to be set on a copy of a DataFrame or Series through chained assignment using an inplace method.\n",
      "The behavior will change in pandas 3.0. This inplace method will never work because the intermediate object on which we are setting values always behaves as a copy.\n",
      "\n",
      "For example, when doing 'df[col].method(value, inplace=True)', try using 'df.method({col: value}, inplace=True)' or df[col] = df[col].method(value) instead, to perform the operation inplace on the original object.\n",
      "\n",
      "\n",
      "  df[col].fillna(df[col].median(), inplace=True)\n",
      "/Users/kevinhuang/Desktop/Fall_2024/ML/ML_final_project/notebooks/../src/models/content_based_recommender.py:74: FutureWarning: A value is trying to be set on a copy of a DataFrame or Series through chained assignment using an inplace method.\n",
      "The behavior will change in pandas 3.0. This inplace method will never work because the intermediate object on which we are setting values always behaves as a copy.\n",
      "\n",
      "For example, when doing 'df[col].method(value, inplace=True)', try using 'df.method({col: value}, inplace=True)' or df[col] = df[col].method(value) instead, to perform the operation inplace on the original object.\n",
      "\n",
      "\n",
      "  df[col].fillna(df[col].median(), inplace=True)\n",
      "/Users/kevinhuang/Desktop/Fall_2024/ML/ML_final_project/notebooks/../src/models/content_based_recommender.py:74: FutureWarning: A value is trying to be set on a copy of a DataFrame or Series through chained assignment using an inplace method.\n",
      "The behavior will change in pandas 3.0. This inplace method will never work because the intermediate object on which we are setting values always behaves as a copy.\n",
      "\n",
      "For example, when doing 'df[col].method(value, inplace=True)', try using 'df.method({col: value}, inplace=True)' or df[col] = df[col].method(value) instead, to perform the operation inplace on the original object.\n",
      "\n",
      "\n",
      "  df[col].fillna(df[col].median(), inplace=True)\n",
      "/Users/kevinhuang/Desktop/Fall_2024/ML/ML_final_project/notebooks/../src/models/content_based_recommender.py:74: FutureWarning: A value is trying to be set on a copy of a DataFrame or Series through chained assignment using an inplace method.\n",
      "The behavior will change in pandas 3.0. This inplace method will never work because the intermediate object on which we are setting values always behaves as a copy.\n",
      "\n",
      "For example, when doing 'df[col].method(value, inplace=True)', try using 'df.method({col: value}, inplace=True)' or df[col] = df[col].method(value) instead, to perform the operation inplace on the original object.\n",
      "\n",
      "\n",
      "  df[col].fillna(df[col].median(), inplace=True)\n",
      "/Users/kevinhuang/Desktop/Fall_2024/ML/ML_final_project/notebooks/../src/models/content_based_recommender.py:74: FutureWarning: A value is trying to be set on a copy of a DataFrame or Series through chained assignment using an inplace method.\n",
      "The behavior will change in pandas 3.0. This inplace method will never work because the intermediate object on which we are setting values always behaves as a copy.\n",
      "\n",
      "For example, when doing 'df[col].method(value, inplace=True)', try using 'df.method({col: value}, inplace=True)' or df[col] = df[col].method(value) instead, to perform the operation inplace on the original object.\n",
      "\n",
      "\n",
      "  df[col].fillna(df[col].median(), inplace=True)\n",
      "/Users/kevinhuang/miniconda3/envs/ml_final/lib/python3.9/site-packages/sklearn/feature_extraction/text.py:517: UserWarning: The parameter 'token_pattern' will not be used since 'tokenizer' is not None'\n",
      "  warnings.warn(\n"
     ]
    },
    {
     "name": "stdout",
     "output_type": "stream",
     "text": [
      "3011\n",
      "Epoch 1/50, Train Loss: 1.8331, Val Loss: 1.6750\n",
      "Model and parameters saved to ../data/models/best_model.pth.\n",
      "New best model saved with Val Loss: 1.6750\n",
      "Epoch 2/50, Train Loss: 1.6218, Val Loss: 1.5570\n",
      "Model and parameters saved to ../data/models/best_model.pth.\n",
      "New best model saved with Val Loss: 1.5570\n",
      "Epoch 3/50, Train Loss: 1.5210, Val Loss: 1.4682\n",
      "Model and parameters saved to ../data/models/best_model.pth.\n",
      "New best model saved with Val Loss: 1.4682\n",
      "Epoch 4/50, Train Loss: 1.4409, Val Loss: 1.4238\n",
      "Model and parameters saved to ../data/models/best_model.pth.\n",
      "New best model saved with Val Loss: 1.4238\n",
      "Epoch 5/50, Train Loss: 1.3825, Val Loss: 1.3596\n",
      "Model and parameters saved to ../data/models/best_model.pth.\n",
      "New best model saved with Val Loss: 1.3596\n",
      "Epoch 6/50, Train Loss: 1.3371, Val Loss: 1.3366\n",
      "Model and parameters saved to ../data/models/best_model.pth.\n",
      "New best model saved with Val Loss: 1.3366\n",
      "Epoch 7/50, Train Loss: 1.3040, Val Loss: 1.3117\n",
      "Model and parameters saved to ../data/models/best_model.pth.\n",
      "New best model saved with Val Loss: 1.3117\n",
      "Epoch 8/50, Train Loss: 1.2755, Val Loss: 1.3361\n",
      "Epoch 9/50, Train Loss: 1.2538, Val Loss: 1.2945\n",
      "Model and parameters saved to ../data/models/best_model.pth.\n",
      "New best model saved with Val Loss: 1.2945\n",
      "Epoch 10/50, Train Loss: 1.2345, Val Loss: 1.2360\n",
      "Model and parameters saved to ../data/models/best_model.pth.\n",
      "New best model saved with Val Loss: 1.2360\n",
      "Epoch 11/50, Train Loss: 1.2196, Val Loss: 1.2640\n",
      "Epoch 12/50, Train Loss: 1.2066, Val Loss: 1.2233\n",
      "Model and parameters saved to ../data/models/best_model.pth.\n",
      "New best model saved with Val Loss: 1.2233\n",
      "Epoch 13/50, Train Loss: 1.1939, Val Loss: 1.2224\n",
      "Model and parameters saved to ../data/models/best_model.pth.\n",
      "New best model saved with Val Loss: 1.2224\n",
      "Epoch 14/50, Train Loss: 1.1840, Val Loss: 1.2047\n",
      "Model and parameters saved to ../data/models/best_model.pth.\n",
      "New best model saved with Val Loss: 1.2047\n",
      "Epoch 15/50, Train Loss: 1.1753, Val Loss: 1.2045\n",
      "Model and parameters saved to ../data/models/best_model.pth.\n",
      "New best model saved with Val Loss: 1.2045\n",
      "Epoch 16/50, Train Loss: 1.1678, Val Loss: 1.1948\n",
      "Model and parameters saved to ../data/models/best_model.pth.\n",
      "New best model saved with Val Loss: 1.1948\n",
      "Epoch 17/50, Train Loss: 1.1596, Val Loss: 1.1978\n",
      "Epoch 18/50, Train Loss: 1.1535, Val Loss: 1.2050\n",
      "Epoch 19/50, Train Loss: 1.1465, Val Loss: 1.1731\n",
      "Model and parameters saved to ../data/models/best_model.pth.\n",
      "New best model saved with Val Loss: 1.1731\n",
      "Epoch 20/50, Train Loss: 1.1411, Val Loss: 1.2241\n",
      "Epoch 21/50, Train Loss: 1.1352, Val Loss: 1.1825\n",
      "Epoch 22/50, Train Loss: 1.1314, Val Loss: 1.1761\n",
      "Epoch 23/50, Train Loss: 1.1271, Val Loss: 1.1797\n",
      "Epoch 24/50, Train Loss: 1.1220, Val Loss: 1.1645\n",
      "Model and parameters saved to ../data/models/best_model.pth.\n",
      "New best model saved with Val Loss: 1.1645\n",
      "Epoch 25/50, Train Loss: 1.1183, Val Loss: 1.1731\n",
      "Epoch 26/50, Train Loss: 1.1149, Val Loss: 1.1582\n",
      "Model and parameters saved to ../data/models/best_model.pth.\n",
      "New best model saved with Val Loss: 1.1582\n",
      "Epoch 27/50, Train Loss: 1.1119, Val Loss: 1.1725\n",
      "Epoch 28/50, Train Loss: 1.1082, Val Loss: 1.1877\n",
      "Epoch 29/50, Train Loss: 1.1057, Val Loss: 1.1663\n",
      "Epoch 30/50, Train Loss: 1.1027, Val Loss: 1.1510\n",
      "Model and parameters saved to ../data/models/best_model.pth.\n",
      "New best model saved with Val Loss: 1.1510\n",
      "Epoch 31/50, Train Loss: 1.1001, Val Loss: 1.1812\n",
      "Epoch 32/50, Train Loss: 1.0974, Val Loss: 1.1482\n",
      "Model and parameters saved to ../data/models/best_model.pth.\n",
      "New best model saved with Val Loss: 1.1482\n",
      "Epoch 33/50, Train Loss: 1.0944, Val Loss: 1.1537\n",
      "Epoch 34/50, Train Loss: 1.0930, Val Loss: 1.1475\n",
      "Model and parameters saved to ../data/models/best_model.pth.\n",
      "New best model saved with Val Loss: 1.1475\n",
      "Epoch 35/50, Train Loss: 1.0905, Val Loss: 1.1486\n",
      "Epoch 36/50, Train Loss: 1.0882, Val Loss: 1.1579\n",
      "Epoch 37/50, Train Loss: 1.0866, Val Loss: 1.1391\n",
      "Model and parameters saved to ../data/models/best_model.pth.\n",
      "New best model saved with Val Loss: 1.1391\n",
      "Epoch 38/50, Train Loss: 1.0843, Val Loss: 1.1378\n",
      "Model and parameters saved to ../data/models/best_model.pth.\n",
      "New best model saved with Val Loss: 1.1378\n",
      "Epoch 39/50, Train Loss: 1.0829, Val Loss: 1.1480\n",
      "Epoch 40/50, Train Loss: 1.0805, Val Loss: 1.1494\n",
      "Epoch 41/50, Train Loss: 1.0785, Val Loss: 1.1495\n",
      "Epoch 42/50, Train Loss: 1.0775, Val Loss: 1.1453\n",
      "Epoch 43/50, Train Loss: 1.0753, Val Loss: 1.1324\n",
      "Model and parameters saved to ../data/models/best_model.pth.\n",
      "New best model saved with Val Loss: 1.1324\n",
      "Epoch 44/50, Train Loss: 1.0742, Val Loss: 1.1293\n",
      "Model and parameters saved to ../data/models/best_model.pth.\n",
      "New best model saved with Val Loss: 1.1293\n",
      "Epoch 45/50, Train Loss: 1.0720, Val Loss: 1.1508\n",
      "Epoch 46/50, Train Loss: 1.0711, Val Loss: 1.1412\n",
      "Epoch 47/50, Train Loss: 1.0691, Val Loss: 1.1432\n",
      "Epoch 48/50, Train Loss: 1.0681, Val Loss: 1.1378\n",
      "Epoch 49/50, Train Loss: 1.0672, Val Loss: 1.1360\n",
      "Early stopping triggered.\n",
      "Training complete.\n"
     ]
    }
   ],
   "source": [
    "anime_data = pd.read_csv('../data/raw/anime.csv')\n",
    "model = ContentBasedRecommender(anime_data=anime_data)\n",
    "model.fit(train_dataset.data)\n"
   ]
  },
  {
   "cell_type": "markdown",
   "metadata": {},
   "source": [
    "## Step 3: Evaluate Model\n"
   ]
  },
  {
   "cell_type": "code",
   "execution_count": 18,
   "metadata": {},
   "outputs": [
    {
     "name": "stdout",
     "output_type": "stream",
     "text": [
      "Model and parameters loaded from ../data/models/best_model.pth.\n"
     ]
    }
   ],
   "source": [
    "# Load model\n",
    "model_path = '../data/models/best_model.pth'\n",
    "best_model = ContentBasedRecommender(anime_data=anime_data)\n",
    "best_model.load_model_and_params(path=model_path)"
   ]
  },
  {
   "cell_type": "code",
   "execution_count": 19,
   "metadata": {},
   "outputs": [
    {
     "name": "stdout",
     "output_type": "stream",
     "text": [
      "User 9675, Item 8516 | Actual: 7.0, Predicted: 7.80448579788208\n",
      "User 7364, Item 41930 | Actual: 6.0, Predicted: 6.202725887298584\n",
      "User 3470, Item 38422 | Actual: 7.3391442155309035, Predicted: 7.897365570068359\n",
      "User 1504, Item 7311 | Actual: 9.0, Predicted: 8.716400146484375\n",
      "User 657, Item 883 | Actual: 5.0, Predicted: 7.328073978424072\n"
     ]
    }
   ],
   "source": [
    "# Test predictions\n",
    "val_df = val_dataset.data\n",
    "sample = val_df.sample(5, random_state=42)\n",
    "\n",
    "user_ids = torch.tensor(sample['user_id'].values, dtype=torch.long)\n",
    "item_ids = torch.tensor(sample['anime_id'].values, dtype=torch.long)\n",
    "actual_ratings = sample['rating'].values\n",
    "\n",
    "predictions = best_model(user_ids, item_ids)\n",
    "\n",
    "for u, i, actual, pred in zip(user_ids, item_ids, actual_ratings, predictions):\n",
    "    print(f\"User {u.item()}, Item {i.item()} | Actual: {actual}, Predicted: {pred.item()}\")\n"
   ]
  },
  {
   "cell_type": "code",
   "execution_count": 21,
   "metadata": {},
   "outputs": [
    {
     "name": "stdout",
     "output_type": "stream",
     "text": [
      "Validation MSE: 1.1282548351432442\n",
      "Test MSE: 1.1339918130505202\n"
     ]
    }
   ],
   "source": [
    "# Evaluation\n",
    "val_mse = evaluate_mse(best_model, val_loader, device='cpu')\n",
    "test_mse = evaluate_mse(best_model, test_loader, device='cpu')\n",
    "\n",
    "print(\"Validation MSE:\", val_mse)\n",
    "print(\"Test MSE:\", test_mse)"
   ]
  }
 ],
 "metadata": {
  "kernelspec": {
   "display_name": "ml_final",
   "language": "python",
   "name": "python3"
  },
  "language_info": {
   "codemirror_mode": {
    "name": "ipython",
    "version": 3
   },
   "file_extension": ".py",
   "mimetype": "text/x-python",
   "name": "python",
   "nbconvert_exporter": "python",
   "pygments_lexer": "ipython3",
   "version": "3.11.0"
  }
 },
 "nbformat": 4,
 "nbformat_minor": 2
}
