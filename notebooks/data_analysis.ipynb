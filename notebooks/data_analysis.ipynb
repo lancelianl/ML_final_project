{
 "cells": [
  {
   "cell_type": "markdown",
   "metadata": {},
   "source": [
    "# Data Analysis Notebook\n",
    "\n",
    "In this notebook, we will:\n",
    "1. Preprocess the raw `animelist.csv` data to get `train`, `val`, and `test` sets.\n",
    "2. Inspect basic statistics about the dataset:\n",
    "   - Number of users and items.\n",
    "   - Distribution of ratings.\n",
    "   - Average number of anime per user.\n",
    "   - Genre distributions from `anime.csv`.\n",
    "3. Validate that our dataset construction and preprocessing appear correct.\n",
    "\n",
    "This is an exploratory data analysis step to ensure that everything is as expected before training models.\n"
   ]
  },
  {
   "cell_type": "code",
   "execution_count": 1,
   "metadata": {
    "ExecuteTime": {
     "end_time": "2024-12-15T01:10:34.288415Z",
     "start_time": "2024-12-15T01:10:34.251437Z"
    }
   },
   "outputs": [],
   "source": [
    "# Executing this cell does some magic\n",
    "%load_ext autoreload\n",
    "%autoreload 2"
   ]
  },
  {
   "cell_type": "code",
   "execution_count": 2,
   "metadata": {},
   "outputs": [],
   "source": [
    "import os\n",
    "import sys\n",
    "src_path = '../src'\n",
    "sys.path.append(src_path)"
   ]
  },
  {
   "cell_type": "code",
   "execution_count": 3,
   "metadata": {
    "ExecuteTime": {
     "end_time": "2024-12-15T01:13:59.087206Z",
     "start_time": "2024-12-15T01:13:59.071106Z"
    }
   },
   "outputs": [],
   "source": [
    "# Required imports\n",
    "import pandas as pd\n",
    "import torch\n",
    "from torch.utils.data import DataLoader\n",
    "import os\n",
    "import numpy as np\n",
    "import matplotlib.pyplot as plt\n",
    "    \n",
    "# Assuming these scripts are in src/ or current directory\n",
    "from dataset.rating_dataset import preprocess_data, RatingDataset  # Adjust path as needed\n",
    "from dataset.anime_data import AnimeData  # Adjust path as needed\n"
   ]
  },
  {
   "cell_type": "markdown",
   "metadata": {},
   "source": [
    "## Step 1: Preprocess Data\n",
    "\n",
    "We'll use the `preprocess_data` function to get `train`, `val`, and `test` sets with an 80/10/10 split.\n"
   ]
  },
  {
   "cell_type": "code",
   "execution_count": 4,
   "metadata": {
    "ExecuteTime": {
     "end_time": "2024-12-15T01:14:02.889126Z",
     "start_time": "2024-12-15T01:14:02.866264Z"
    }
   },
   "outputs": [
    {
     "name": "stdout",
     "output_type": "stream",
     "text": [
      "Training samples: 2600126, Validation samples: 325016, Test samples: 325016\n"
     ]
    }
   ],
   "source": [
    "train_dataset, val_dataset, test_dataset = preprocess_data(\n",
    "    filepath='../data/raw/animelist.csv',\n",
    "    user_range=10000,  # for example, limit to first 10k users\n",
    "    include_watching_status=False,\n",
    "    include_watched_episodes=False,\n",
    "    zero_strategy='average',\n",
    "    random_state=42,\n",
    "    save_interaction_matrix=True\n",
    ")\n",
    "\n",
    "len_train = len(train_dataset)\n",
    "len_val = len(val_dataset)\n",
    "len_test = len(test_dataset)\n",
    "print(f\"Training samples: {len_train}, Validation samples: {len_val}, Test samples: {len_test}\")\n"
   ]
  },
  {
   "cell_type": "markdown",
   "metadata": {},
   "source": [
    "Check if the splitting is correct: we expect approximately 80%, 10%, 10%.\n"
   ]
  },
  {
   "cell_type": "code",
   "execution_count": 5,
   "metadata": {},
   "outputs": [
    {
     "name": "stdout",
     "output_type": "stream",
     "text": [
      "Total samples: 3250158\n",
      "Train ratio: 0.79999987692906\n",
      "Val ratio: 0.10000006153546996\n",
      "Test ratio: 0.10000006153546996\n"
     ]
    }
   ],
   "source": [
    "total = len_train + len_val + len_test\n",
    "print(\"Total samples:\", total)\n",
    "print(\"Train ratio:\", len_train / total)\n",
    "print(\"Val ratio:\", len_val / total)\n",
    "print(\"Test ratio:\", len_test / total)\n"
   ]
  },
  {
   "cell_type": "markdown",
   "metadata": {},
   "source": [
    "## Step 2: Basic Statistics\n",
    "\n",
    "We can convert the dataset objects back to DataFrames to analyze them more easily.\n"
   ]
  },
  {
   "cell_type": "code",
   "execution_count": 6,
   "metadata": {},
   "outputs": [
    {
     "data": {
      "text/html": [
       "<div>\n",
       "<style scoped>\n",
       "    .dataframe tbody tr th:only-of-type {\n",
       "        vertical-align: middle;\n",
       "    }\n",
       "\n",
       "    .dataframe tbody tr th {\n",
       "        vertical-align: top;\n",
       "    }\n",
       "\n",
       "    .dataframe thead th {\n",
       "        text-align: right;\n",
       "    }\n",
       "</style>\n",
       "<table border=\"1\" class=\"dataframe\">\n",
       "  <thead>\n",
       "    <tr style=\"text-align: right;\">\n",
       "      <th></th>\n",
       "      <th>user_id</th>\n",
       "      <th>anime_id</th>\n",
       "      <th>rating</th>\n",
       "      <th>watching_status</th>\n",
       "      <th>watched_episodes</th>\n",
       "    </tr>\n",
       "  </thead>\n",
       "  <tbody>\n",
       "    <tr>\n",
       "      <th>0</th>\n",
       "      <td>3608</td>\n",
       "      <td>242</td>\n",
       "      <td>7.000000</td>\n",
       "      <td>1</td>\n",
       "      <td>0</td>\n",
       "    </tr>\n",
       "    <tr>\n",
       "      <th>1</th>\n",
       "      <td>10202</td>\n",
       "      <td>12477</td>\n",
       "      <td>9.090909</td>\n",
       "      <td>6</td>\n",
       "      <td>0</td>\n",
       "    </tr>\n",
       "    <tr>\n",
       "      <th>2</th>\n",
       "      <td>4741</td>\n",
       "      <td>7724</td>\n",
       "      <td>7.000000</td>\n",
       "      <td>2</td>\n",
       "      <td>22</td>\n",
       "    </tr>\n",
       "    <tr>\n",
       "      <th>3</th>\n",
       "      <td>2279</td>\n",
       "      <td>33049</td>\n",
       "      <td>9.000000</td>\n",
       "      <td>2</td>\n",
       "      <td>1</td>\n",
       "    </tr>\n",
       "    <tr>\n",
       "      <th>4</th>\n",
       "      <td>3916</td>\n",
       "      <td>394</td>\n",
       "      <td>4.000000</td>\n",
       "      <td>2</td>\n",
       "      <td>12</td>\n",
       "    </tr>\n",
       "  </tbody>\n",
       "</table>\n",
       "</div>"
      ],
      "text/plain": [
       "   user_id  anime_id    rating  watching_status  watched_episodes\n",
       "0     3608       242  7.000000                1                 0\n",
       "1    10202     12477  9.090909                6                 0\n",
       "2     4741      7724  7.000000                2                22\n",
       "3     2279     33049  9.000000                2                 1\n",
       "4     3916       394  4.000000                2                12"
      ]
     },
     "execution_count": 6,
     "metadata": {},
     "output_type": "execute_result"
    }
   ],
   "source": [
    "train_df = train_dataset.data\n",
    "val_df = val_dataset.data\n",
    "test_df = test_dataset.data\n",
    "train_df.head()"
   ]
  },
  {
   "cell_type": "markdown",
   "metadata": {},
   "source": [
    "### Number of unique users and items\n",
    "\n",
    "We can check how many unique users and anime appear in the training set.\n"
   ]
  },
  {
   "cell_type": "code",
   "execution_count": 7,
   "metadata": {},
   "outputs": [
    {
     "name": "stdout",
     "output_type": "stream",
     "text": [
      "Unique users in train: 9979\n",
      "Unique items in train: 15926\n"
     ]
    }
   ],
   "source": [
    "unique_users = train_df['user_id'].nunique()\n",
    "unique_items = train_df['anime_id'].nunique()\n",
    "print(\"Unique users in train:\", unique_users)\n",
    "print(\"Unique items in train:\", unique_items)\n"
   ]
  },
  {
   "cell_type": "markdown",
   "metadata": {},
   "source": [
    "### Average number of anime rated per user\n",
    "\n",
    "Let's see how many ratings each user has on average in the training set.\n"
   ]
  },
  {
   "cell_type": "code",
   "execution_count": 8,
   "metadata": {},
   "outputs": [
    {
     "name": "stdout",
     "output_type": "stream",
     "text": [
      "Average number of anime rated per user (train): 260.5597755286101\n"
     ]
    },
    {
     "data": {
      "image/png": "[encoded data removed]",
      "text/plain": [
       "<Figure size 1000x500 with 1 Axes>"
      ]
     },
     "metadata": {},
     "output_type": "display_data"
    }
   ],
   "source": [
    "ratings_per_user = train_df.groupby('user_id')['anime_id'].count()\n",
    "avg_ratings_per_user = ratings_per_user.mean()\n",
    "print(\"Average number of anime rated per user (train):\", avg_ratings_per_user)\n",
    "\n",
    "# Distribution of ratings per user\n",
    "plt.figure(figsize=(10,5))\n",
    "plt.hist(ratings_per_user, bins=50)\n",
    "plt.title(\"Distribution of Number of Anime Rated per User (Train)\")\n",
    "plt.xlabel(\"Number of Anime Rated\")\n",
    "plt.ylabel(\"Count of Users\")\n",
    "plt.show()\n"
   ]
  },
  {
   "cell_type": "markdown",
   "metadata": {},
   "source": [
    "### Rating Distribution\n",
    "\n",
    "Check the distribution of ratings given by users.\n"
   ]
  },
  {
   "cell_type": "code",
   "execution_count": 9,
   "metadata": {},
   "outputs": [
    {
     "data": {
      "image/png": "[encoded data removed]",
      "text/plain": [
       "<Figure size 800x400 with 1 Axes>"
      ]
     },
     "metadata": {},
     "output_type": "display_data"
    },
    {
     "name": "stdout",
     "output_type": "stream",
     "text": [
      "Mean rating (train): 7.536213079630885\n",
      "Median rating (train): 7.68780487804878\n"
     ]
    }
   ],
   "source": [
    "plt.figure(figsize=(8,4))\n",
    "plt.hist(train_df['rating'], bins=11, range=(0,11), edgecolor='black')\n",
    "plt.title(\"Rating Distribution (Train)\")\n",
    "plt.xlabel(\"Rating\")\n",
    "plt.ylabel(\"Count\")\n",
    "plt.show()\n",
    "\n",
    "print(\"Mean rating (train):\", train_df['rating'].mean())\n",
    "print(\"Median rating (train):\", train_df['rating'].median())\n"
   ]
  },
  {
   "cell_type": "markdown",
   "metadata": {},
   "source": [
    "## Step 3: Inspect Anime Metadata\n",
    "\n",
    "We have `anime.csv`. Let's load it via `AnimeData` to examine genres, types, etc.\n"
   ]
  },
  {
   "cell_type": "code",
   "execution_count": 10,
   "metadata": {},
   "outputs": [
    {
     "name": "stdout",
     "output_type": "stream",
     "text": [
      "Anime DataFrame shape: (17562, 37)\n"
     ]
    },
    {
     "data": {
      "text/html": [
       "<div>\n",
       "<style scoped>\n",
       "    .dataframe tbody tr th:only-of-type {\n",
       "        vertical-align: middle;\n",
       "    }\n",
       "\n",
       "    .dataframe tbody tr th {\n",
       "        vertical-align: top;\n",
       "    }\n",
       "\n",
       "    .dataframe thead th {\n",
       "        text-align: right;\n",
       "    }\n",
       "</style>\n",
       "<table border=\"1\" class=\"dataframe\">\n",
       "  <thead>\n",
       "    <tr style=\"text-align: right;\">\n",
       "      <th></th>\n",
       "      <th>MAL_ID</th>\n",
       "      <th>Name</th>\n",
       "      <th>Score</th>\n",
       "      <th>Genres</th>\n",
       "      <th>English name</th>\n",
       "      <th>Japanese name</th>\n",
       "      <th>Type</th>\n",
       "      <th>Episodes</th>\n",
       "      <th>Aired</th>\n",
       "      <th>Premiered</th>\n",
       "      <th>...</th>\n",
       "      <th>Score-8</th>\n",
       "      <th>Score-7</th>\n",
       "      <th>Score-6</th>\n",
       "      <th>Score-5</th>\n",
       "      <th>Score-4</th>\n",
       "      <th>Score-3</th>\n",
       "      <th>Score-2</th>\n",
       "      <th>Score-1</th>\n",
       "      <th>StartDate</th>\n",
       "      <th>EndDate</th>\n",
       "    </tr>\n",
       "  </thead>\n",
       "  <tbody>\n",
       "    <tr>\n",
       "      <th>0</th>\n",
       "      <td>1</td>\n",
       "      <td>Cowboy Bebop</td>\n",
       "      <td>8.78</td>\n",
       "      <td>[Action, Adventure, Comedy, Drama, Sci-Fi, Space]</td>\n",
       "      <td>Cowboy Bebop</td>\n",
       "      <td>カウボーイビバップ</td>\n",
       "      <td>TV</td>\n",
       "      <td>26</td>\n",
       "      <td>Apr 3, 1998 to Apr 24, 1999</td>\n",
       "      <td>Spring 1998</td>\n",
       "      <td>...</td>\n",
       "      <td>131625.0</td>\n",
       "      <td>62330.0</td>\n",
       "      <td>20688.0</td>\n",
       "      <td>8904.0</td>\n",
       "      <td>3184.0</td>\n",
       "      <td>1357.0</td>\n",
       "      <td>741.0</td>\n",
       "      <td>1580.0</td>\n",
       "      <td>-8.718497</td>\n",
       "      <td>-7.660963</td>\n",
       "    </tr>\n",
       "    <tr>\n",
       "      <th>1</th>\n",
       "      <td>5</td>\n",
       "      <td>Cowboy Bebop: Tengoku no Tobira</td>\n",
       "      <td>8.39</td>\n",
       "      <td>[Action, Drama, Mystery, Sci-Fi, Space]</td>\n",
       "      <td>Cowboy Bebop:The Movie</td>\n",
       "      <td>カウボーイビバップ 天国の扉</td>\n",
       "      <td>Movie</td>\n",
       "      <td>1</td>\n",
       "      <td>Sep 1, 2001</td>\n",
       "      <td>NaN</td>\n",
       "      <td>...</td>\n",
       "      <td>49505.0</td>\n",
       "      <td>22632.0</td>\n",
       "      <td>5805.0</td>\n",
       "      <td>1877.0</td>\n",
       "      <td>577.0</td>\n",
       "      <td>221.0</td>\n",
       "      <td>109.0</td>\n",
       "      <td>379.0</td>\n",
       "      <td>-5.307310</td>\n",
       "      <td>-5.307310</td>\n",
       "    </tr>\n",
       "    <tr>\n",
       "      <th>2</th>\n",
       "      <td>6</td>\n",
       "      <td>Trigun</td>\n",
       "      <td>8.24</td>\n",
       "      <td>[Action, Sci-Fi, Adventure, Comedy, Drama, Sho...</td>\n",
       "      <td>Trigun</td>\n",
       "      <td>トライガン</td>\n",
       "      <td>TV</td>\n",
       "      <td>26</td>\n",
       "      <td>Apr 1, 1998 to Sep 30, 1998</td>\n",
       "      <td>Spring 1998</td>\n",
       "      <td>...</td>\n",
       "      <td>86142.0</td>\n",
       "      <td>49432.0</td>\n",
       "      <td>15376.0</td>\n",
       "      <td>5838.0</td>\n",
       "      <td>1965.0</td>\n",
       "      <td>664.0</td>\n",
       "      <td>316.0</td>\n",
       "      <td>533.0</td>\n",
       "      <td>-8.723977</td>\n",
       "      <td>-8.227858</td>\n",
       "    </tr>\n",
       "    <tr>\n",
       "      <th>3</th>\n",
       "      <td>7</td>\n",
       "      <td>Witch Hunter Robin</td>\n",
       "      <td>7.27</td>\n",
       "      <td>[Action, Mystery, Police, Supernatural, Drama,...</td>\n",
       "      <td>Witch Hunter Robin</td>\n",
       "      <td>Witch Hunter ROBIN (ウイッチハンターロビン)</td>\n",
       "      <td>TV</td>\n",
       "      <td>26</td>\n",
       "      <td>Jul 2, 2002 to Dec 24, 2002</td>\n",
       "      <td>Summer 2002</td>\n",
       "      <td>...</td>\n",
       "      <td>10128.0</td>\n",
       "      <td>11618.0</td>\n",
       "      <td>5709.0</td>\n",
       "      <td>2920.0</td>\n",
       "      <td>1083.0</td>\n",
       "      <td>353.0</td>\n",
       "      <td>164.0</td>\n",
       "      <td>131.0</td>\n",
       "      <td>-4.471237</td>\n",
       "      <td>-3.994296</td>\n",
       "    </tr>\n",
       "    <tr>\n",
       "      <th>4</th>\n",
       "      <td>8</td>\n",
       "      <td>Bouken Ou Beet</td>\n",
       "      <td>6.98</td>\n",
       "      <td>[Adventure, Fantasy, Shounen, Supernatural]</td>\n",
       "      <td>Beet the Vandel Buster</td>\n",
       "      <td>冒険王ビィト</td>\n",
       "      <td>TV</td>\n",
       "      <td>52</td>\n",
       "      <td>Sep 30, 2004 to Sep 29, 2005</td>\n",
       "      <td>Fall 2004</td>\n",
       "      <td>...</td>\n",
       "      <td>1242.0</td>\n",
       "      <td>1713.0</td>\n",
       "      <td>1068.0</td>\n",
       "      <td>634.0</td>\n",
       "      <td>265.0</td>\n",
       "      <td>83.0</td>\n",
       "      <td>50.0</td>\n",
       "      <td>27.0</td>\n",
       "      <td>-2.227858</td>\n",
       "      <td>-1.230598</td>\n",
       "    </tr>\n",
       "  </tbody>\n",
       "</table>\n",
       "<p>5 rows × 37 columns</p>\n",
       "</div>"
      ],
      "text/plain": [
       "   MAL_ID                             Name  Score  \\\n",
       "0       1                     Cowboy Bebop   8.78   \n",
       "1       5  Cowboy Bebop: Tengoku no Tobira   8.39   \n",
       "2       6                           Trigun   8.24   \n",
       "3       7               Witch Hunter Robin   7.27   \n",
       "4       8                   Bouken Ou Beet   6.98   \n",
       "\n",
       "                                              Genres            English name  \\\n",
       "0  [Action, Adventure, Comedy, Drama, Sci-Fi, Space]            Cowboy Bebop   \n",
       "1            [Action, Drama, Mystery, Sci-Fi, Space]  Cowboy Bebop:The Movie   \n",
       "2  [Action, Sci-Fi, Adventure, Comedy, Drama, Sho...                  Trigun   \n",
       "3  [Action, Mystery, Police, Supernatural, Drama,...      Witch Hunter Robin   \n",
       "4        [Adventure, Fantasy, Shounen, Supernatural]  Beet the Vandel Buster   \n",
       "\n",
       "                      Japanese name   Type Episodes  \\\n",
       "0                         カウボーイビバップ     TV       26   \n",
       "1                    カウボーイビバップ 天国の扉  Movie        1   \n",
       "2                             トライガン     TV       26   \n",
       "3  Witch Hunter ROBIN (ウイッチハンターロビン)     TV       26   \n",
       "4                            冒険王ビィト     TV       52   \n",
       "\n",
       "                          Aired    Premiered  ...   Score-8  Score-7  Score-6  \\\n",
       "0   Apr 3, 1998 to Apr 24, 1999  Spring 1998  ...  131625.0  62330.0  20688.0   \n",
       "1                   Sep 1, 2001          NaN  ...   49505.0  22632.0   5805.0   \n",
       "2   Apr 1, 1998 to Sep 30, 1998  Spring 1998  ...   86142.0  49432.0  15376.0   \n",
       "3   Jul 2, 2002 to Dec 24, 2002  Summer 2002  ...   10128.0  11618.0   5709.0   \n",
       "4  Sep 30, 2004 to Sep 29, 2005    Fall 2004  ...    1242.0   1713.0   1068.0   \n",
       "\n",
       "  Score-5 Score-4 Score-3 Score-2  Score-1  StartDate   EndDate  \n",
       "0  8904.0  3184.0  1357.0   741.0   1580.0  -8.718497 -7.660963  \n",
       "1  1877.0   577.0   221.0   109.0    379.0  -5.307310 -5.307310  \n",
       "2  5838.0  1965.0   664.0   316.0    533.0  -8.723977 -8.227858  \n",
       "3  2920.0  1083.0   353.0   164.0    131.0  -4.471237 -3.994296  \n",
       "4   634.0   265.0    83.0    50.0     27.0  -2.227858 -1.230598  \n",
       "\n",
       "[5 rows x 37 columns]"
      ]
     },
     "execution_count": 10,
     "metadata": {},
     "output_type": "execute_result"
    }
   ],
   "source": [
    "anime_data = AnimeData(filepath='../data/raw/anime.csv')\n",
    "print(\"Anime DataFrame shape:\", anime_data.df.shape)\n",
    "anime_data.df.head()\n"
   ]
  },
  {
   "cell_type": "markdown",
   "metadata": {},
   "source": [
    "### Genre Distribution\n",
    "\n",
    "We can look at how frequently each genre appears.\n"
   ]
  },
  {
   "cell_type": "code",
   "execution_count": 16,
   "metadata": {},
   "outputs": [
    {
     "name": "stdout",
     "output_type": "stream",
     "text": [
      "Top 20 genres:\n",
      "Comedy           6029\n",
      "Action           3888\n",
      "Fantasy          3285\n",
      "Adventure        2957\n",
      "Kids             2665\n",
      "Drama            2619\n",
      "Sci-Fi           2583\n",
      "Music            2244\n",
      "Shounen          2003\n",
      "Slice of Life    1914\n",
      "Romance          1899\n",
      "School           1642\n",
      "Supernatural     1479\n",
      "Hentai           1348\n",
      "Historical       1144\n",
      "Mecha            1101\n",
      "Magic            1081\n",
      "Seinen            830\n",
      "Ecchi             767\n",
      "Mystery           727\n",
      "Name: count, dtype: int64\n"
     ]
    },
    {
     "data": {
      "image/png": "[encoded data removed]",
      "text/plain": [
       "<Figure size 1000x600 with 1 Axes>"
      ]
     },
     "metadata": {},
     "output_type": "display_data"
    }
   ],
   "source": [
    "all_genres = anime_data.df['Genres'].dropna().tolist()\n",
    "# Flatten list of lists\n",
    "flat_genres = [g for genre_list in all_genres for g in genre_list]\n",
    "\n",
    "genre_counts = pd.Series(flat_genres).value_counts()\n",
    "print(\"Top 20 genres:\")\n",
    "print(genre_counts.head(20))\n",
    "\n",
    "# Plot genre distribution\n",
    "plt.figure(figsize=(10,6))\n",
    "genre_counts.head(20).plot(kind='bar')\n",
    "plt.title(\"Top 20 Most Common Genres\")\n",
    "plt.xlabel(\"Genre\")\n",
    "plt.ylabel(\"Count\")\n",
    "plt.show()\n"
   ]
  },
  {
   "cell_type": "markdown",
   "metadata": {},
   "source": [
    "## Step 4: Cross-check Consistency\n",
    "\n",
    "- Ensure that all user_ids and anime_ids in the train/val/test sets appear in the top `user_range` users and that anime_ids appear in `anime_data`.\n",
    "\n",
    "We'll just do a quick sanity check for a few samples.\n"
   ]
  },
  {
   "cell_type": "code",
   "execution_count": null,
   "metadata": {},
   "outputs": [
    {
     "name": "stdout",
     "output_type": "stream",
     "text": [
      "Sample from train dataset:\n",
      "         user_id  anime_id    rating  watching_status  watched_episodes\n",
      "1889934     3326      1889  7.561538                6                 0\n",
      "1116521     2507     33082  8.592683                6                 0\n",
      "2107795     9587     31637  9.000000                2                12\n",
      "1263730     6695     21939  7.000000                2                10\n",
      "2072040    10591     30307  4.000000                2                12\n"
     ]
    }
   ],
   "source": [
    "sample_train = train_df.sample(5)\n",
    "print(\"Sample from train dataset:\")\n",
    "print(sample_train)\n",
    "\n",
    "for idx, row in sample_train.iterrows():\n",
    "    mal_id = row['anime_id']\n",
    "    # Check if anime exists in anime_data\n",
    "    anime_row = anime_data.df[anime_data.df['MAL_ID'] == mal_id]\n",
    "    if anime_row.empty:\n",
    "        print(f\"Warning: Anime {mal_id} not found in anime_data!\")\n"
   ]
  },
  {
   "cell_type": "code",
   "execution_count": null,
   "metadata": {},
   "outputs": [],
   "source": []
  }
 ],
 "metadata": {
  "kernelspec": {
   "display_name": "nlp-class",
   "language": "python",
   "name": "python3"
  },
  "language_info": {
   "codemirror_mode": {
    "name": "ipython",
    "version": 3
   },
   "file_extension": ".py",
   "mimetype": "text/x-python",
   "name": "python",
   "nbconvert_exporter": "python",
   "pygments_lexer": "ipython3",
   "version": "3.11.0"
  }
 },
 "nbformat": 4,
 "nbformat_minor": 2
}
