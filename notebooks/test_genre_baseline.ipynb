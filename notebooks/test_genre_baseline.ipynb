{
 "cells": [
  {
   "cell_type": "code",
   "execution_count": 25,
   "metadata": {},
   "outputs": [
    {
     "name": "stdout",
     "output_type": "stream",
     "text": [
      "The autoreload extension is already loaded. To reload it, use:\n",
      "  %reload_ext autoreload\n"
     ]
    }
   ],
   "source": [
    "# Executing this cell does some magic\n",
    "%load_ext autoreload\n",
    "%autoreload 2"
   ]
  },
  {
   "cell_type": "code",
   "execution_count": 26,
   "metadata": {},
   "outputs": [],
   "source": [
    "import sys\n",
    "# Add the `src` folder to the system path\n",
    "src_path = '../src'  # Replace with the actual path to the `src` folder\n",
    "sys.path.append(src_path)"
   ]
  },
  {
   "cell_type": "code",
   "execution_count": 27,
   "metadata": {},
   "outputs": [],
   "source": [
    "# Required imports\n",
    "import pandas as pd\n",
    "import torch\n",
    "from torch.utils.data import DataLoader\n",
    "import os\n",
    "import numpy as np\n",
    "\n",
    "# Assuming these scripts are in src/ or current directory\n",
    "from dataset.rating_dataset import preprocess_data, RatingDataset  # Adjust path as needed\n",
    "from dataset.anime_data import AnimeData  # Adjust path as needed\n",
    "from eval.evaluate import evaluate_mse   # Adjust path as needed\n",
    "from models.genre_baseline import GenreBaselineModel  # Adjust path as needed\n"
   ]
  },
  {
   "cell_type": "markdown",
   "metadata": {},
   "source": [
    "## Step 1: Preprocess Data\n",
    "\n",
    "We'll get `train_dataset`, `val_dataset`, and `test_dataset` using our `preprocess_data` function.\n"
   ]
  },
  {
   "cell_type": "code",
   "execution_count": 28,
   "metadata": {},
   "outputs": [
    {
     "name": "stdout",
     "output_type": "stream",
     "text": [
      "Training samples: 2600126, Validation samples: 325016, Test samples: 325016\n"
     ]
    }
   ],
   "source": [
    "train_dataset, val_dataset, test_dataset = preprocess_data(\n",
    "    filepath='../data/raw/animelist.csv',\n",
    "    user_range=10000,  # For example, limit to first 10k users\n",
    "    include_watching_status=False,\n",
    "    include_watched_episodes=False,\n",
    "    zero_strategy='average',\n",
    "    random_state=42,\n",
    "    save_interaction_matrix=True\n",
    ")\n",
    "\n",
    "len_train = len(train_dataset)\n",
    "len_val = len(val_dataset)\n",
    "len_test = len(test_dataset)\n",
    "\n",
    "print(f\"Training samples: {len_train}, Validation samples: {len_val}, Test samples: {len_test}\")\n"
   ]
  },
  {
   "cell_type": "code",
   "execution_count": 29,
   "metadata": {},
   "outputs": [],
   "source": [
    "train_loader = DataLoader(train_dataset, batch_size=64, shuffle=True)\n",
    "val_loader = DataLoader(val_dataset, batch_size=64, shuffle=False)\n",
    "test_loader = DataLoader(test_dataset, batch_size=64, shuffle=False)\n"
   ]
  },
  {
   "cell_type": "markdown",
   "metadata": {},
   "source": [
    "## Step 2: Initialize AnimeData\n",
    "\n",
    "We'll load the anime metadata, which will allow us to query genres and compute global genre means.\n"
   ]
  },
  {
   "cell_type": "code",
   "execution_count": 30,
   "metadata": {},
   "outputs": [
    {
     "name": "stdout",
     "output_type": "stream",
     "text": [
      "Anime DataFrame shape: (17562, 37)\n",
      "Columns: ['MAL_ID', 'Name', 'Score', 'Genres', 'English name', 'Japanese name', 'Type', 'Episodes', 'Aired', 'Premiered', 'Producers', 'Licensors', 'Studios', 'Source', 'Duration', 'Rating', 'Ranked', 'Popularity', 'Members', 'Favorites', 'Watching', 'Completed', 'On-Hold', 'Dropped', 'Plan to Watch', 'Score-10', 'Score-9', 'Score-8', 'Score-7', 'Score-6', 'Score-5', 'Score-4', 'Score-3', 'Score-2', 'Score-1', 'StartDate', 'EndDate']\n"
     ]
    }
   ],
   "source": [
    "anime_data = AnimeData(filepath='../data/raw/anime.csv')\n",
    "print(\"Anime DataFrame shape:\", anime_data.df.shape)\n",
    "print(\"Columns:\", anime_data.list_columns())\n"
   ]
  },
  {
   "cell_type": "markdown",
   "metadata": {},
   "source": [
    "## Step 3: Initialize and Fit GenreBaselineModel\n",
    "\n",
    "We'll create an instance of `GenreBaselineModel` and then fit it on the training data. The `fit` method expects a DataFrame with `user_id, anime_id, rating`. We can get that from `train_dataset`.\n"
   ]
  },
  {
   "cell_type": "code",
   "execution_count": 31,
   "metadata": {},
   "outputs": [],
   "source": [
    "# Convert train_dataset back to a DataFrame for fitting.\n",
    "train_df = train_dataset.data  # We stored the original in dataset\n",
    "\n",
    "model = GenreBaselineModel(anime_data)\n",
    "model.fit(train_df)\n"
   ]
  },
  {
   "cell_type": "markdown",
   "metadata": {},
   "source": [
    "## Step 4: Test Predictions\n",
    "\n",
    "Let's pick a few random user-item pairs from the validation set and see what the model predicts.\n"
   ]
  },
  {
   "cell_type": "code",
   "execution_count": 32,
   "metadata": {},
   "outputs": [
    {
     "name": "stdout",
     "output_type": "stream",
     "text": [
      "User 9675, Item 8516 | Actual: 7.0, Predicted: 7.014926433563232\n",
      "User 7364, Item 41930 | Actual: 6.0, Predicted: 7.159160614013672\n",
      "User 3470, Item 38422 | Actual: 7.3391442155309035, Predicted: 7.390338897705078\n",
      "User 1504, Item 7311 | Actual: 9.0, Predicted: 7.7423834800720215\n",
      "User 657, Item 883 | Actual: 5.0, Predicted: 7.25459623336792\n"
     ]
    }
   ],
   "source": [
    "val_df = val_dataset.data\n",
    "sample = val_df.sample(5, random_state=42)\n",
    "\n",
    "user_ids = torch.tensor(sample['user_id'].values, dtype=torch.long)\n",
    "item_ids = torch.tensor(sample['anime_id'].values, dtype=torch.long)\n",
    "actual_ratings = sample['rating'].values\n",
    "\n",
    "predictions = model(user_ids, item_ids)\n",
    "\n",
    "for u, i, actual, pred in zip(user_ids, item_ids, actual_ratings, predictions):\n",
    "    print(f\"User {u.item()}, Item {i.item()} | Actual: {actual}, Predicted: {pred.item()}\")\n"
   ]
  },
  {
   "cell_type": "markdown",
   "metadata": {},
   "source": [
    "We see how the baseline model predicts ratings. It uses the user's mean ratings for the genres associated with that anime, or falls back to the global genre mean.\n",
    "\n",
    "## Step 5: Evaluate Model\n",
    "\n",
    "Now we use the `evaluate_mse` function to compute MSE on the validation and test sets.\n"
   ]
  },
  {
   "cell_type": "code",
   "execution_count": 33,
   "metadata": {},
   "outputs": [
    {
     "name": "stdout",
     "output_type": "stream",
     "text": [
      "Validation MSE: 1.2525918682968895\n",
      "Test MSE: 1.2607992187064982\n"
     ]
    }
   ],
   "source": [
    "val_mse = evaluate_mse(model, val_loader, device='cpu')\n",
    "test_mse = evaluate_mse(model, test_loader, device='cpu')\n",
    "\n",
    "print(\"Validation MSE:\", val_mse)\n",
    "print(\"Test MSE:\", test_mse)\n"
   ]
  }
 ],
 "metadata": {
  "kernelspec": {
   "display_name": "nlp-class",
   "language": "python",
   "name": "python3"
  },
  "language_info": {
   "codemirror_mode": {
    "name": "ipython",
    "version": 3
   },
   "file_extension": ".py",
   "mimetype": "text/x-python",
   "name": "python",
   "nbconvert_exporter": "python",
   "pygments_lexer": "ipython3",
   "version": "3.11.0"
  }
 },
 "nbformat": 4,
 "nbformat_minor": 2
}
